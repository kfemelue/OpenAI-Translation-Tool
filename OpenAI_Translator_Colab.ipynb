{
  "nbformat": 4,
  "nbformat_minor": 0,
  "metadata": {
    "colab": {
      "provenance": [],
      "include_colab_link": true
    },
    "kernelspec": {
      "name": "python3",
      "display_name": "Python 3"
    },
    "language_info": {
      "name": "python"
    }
  },
  "cells": [
    {
      "cell_type": "markdown",
      "metadata": {
        "id": "view-in-github",
        "colab_type": "text"
      },
      "source": [
        "<a href=\"https://colab.research.google.com/github/kfemelue/OpenAI-Translation-Tool/blob/main/OpenAI_Translator_Colab.ipynb\" target=\"_parent\"><img src=\"https://colab.research.google.com/assets/colab-badge.svg\" alt=\"Open In Colab\"/></a>"
      ]
    },
    {
      "cell_type": "markdown",
      "source": [
        "# Create a translation tool using OpenAI API"
      ],
      "metadata": {
        "id": "Nyv8GdYbs92B"
      }
    },
    {
      "cell_type": "code",
      "source": [
        "# Install openai python dependency into colab environment\n",
        "!pip install openai"
      ],
      "metadata": {
        "colab": {
          "base_uri": "https://localhost:8080/"
        },
        "id": "CqhETI8auGvS",
        "outputId": "7ce63d7a-f729-48ef-81b4-98567ead0563"
      },
      "execution_count": null,
      "outputs": [
        {
          "output_type": "stream",
          "name": "stdout",
          "text": [
            "Requirement already satisfied: openai in /usr/local/lib/python3.10/dist-packages (0.28.0)\n",
            "Requirement already satisfied: requests>=2.20 in /usr/local/lib/python3.10/dist-packages (from openai) (2.31.0)\n",
            "Requirement already satisfied: tqdm in /usr/local/lib/python3.10/dist-packages (from openai) (4.66.4)\n",
            "Requirement already satisfied: aiohttp in /usr/local/lib/python3.10/dist-packages (from openai) (3.9.5)\n",
            "Requirement already satisfied: charset-normalizer<4,>=2 in /usr/local/lib/python3.10/dist-packages (from requests>=2.20->openai) (3.3.2)\n",
            "Requirement already satisfied: idna<4,>=2.5 in /usr/local/lib/python3.10/dist-packages (from requests>=2.20->openai) (3.7)\n",
            "Requirement already satisfied: urllib3<3,>=1.21.1 in /usr/local/lib/python3.10/dist-packages (from requests>=2.20->openai) (2.0.7)\n",
            "Requirement already satisfied: certifi>=2017.4.17 in /usr/local/lib/python3.10/dist-packages (from requests>=2.20->openai) (2024.6.2)\n",
            "Requirement already satisfied: aiosignal>=1.1.2 in /usr/local/lib/python3.10/dist-packages (from aiohttp->openai) (1.3.1)\n",
            "Requirement already satisfied: attrs>=17.3.0 in /usr/local/lib/python3.10/dist-packages (from aiohttp->openai) (23.2.0)\n",
            "Requirement already satisfied: frozenlist>=1.1.1 in /usr/local/lib/python3.10/dist-packages (from aiohttp->openai) (1.4.1)\n",
            "Requirement already satisfied: multidict<7.0,>=4.5 in /usr/local/lib/python3.10/dist-packages (from aiohttp->openai) (6.0.5)\n",
            "Requirement already satisfied: yarl<2.0,>=1.0 in /usr/local/lib/python3.10/dist-packages (from aiohttp->openai) (1.9.4)\n",
            "Requirement already satisfied: async-timeout<5.0,>=4.0 in /usr/local/lib/python3.10/dist-packages (from aiohttp->openai) (4.0.3)\n"
          ]
        }
      ]
    },
    {
      "cell_type": "code",
      "source": [
        "# import Requirements\n",
        "from google.colab import userdata\n",
        "import openai\n",
        "\n",
        "# Add your api key as an environment variable and access it using google.colab userdata\n",
        "# The translate function will fail if you do not have a valid API key and credits to use\n",
        "\n",
        "openai.api_key = userdata.get('api_key')\n",
        "\n",
        "\n",
        "# Create a translate function that takes a string of text, source language, and target language\n",
        "# as parameters\n",
        "def translate_text(message, source_language, target_language):\n",
        "  \"\"\"\n",
        "  Call the openai api to translate text to another language. Return the translated string.\n",
        "  :param str message: The message you wish to translate\n",
        "  :param str source_language: The language of the original message\n",
        "  :param str target_language: The target language for translation\n",
        "  :return: The translated message as a string\n",
        "  :rtype: str\n",
        "  :raises ValueError: if the message exceeds 160 characters\n",
        "  :raises ValueError: if the source_language or target_language exceeds 50 characters\n",
        "  :raises TypeError: if any parameters are not str type\n",
        "  \"\"\"\n",
        "  try:\n",
        "    source = source_language\n",
        "    target = target_language\n",
        "    text = message\n",
        "\n",
        "    # Handle Error Cases\n",
        "    if not all(isinstance(param, str) for param in [text, source_language, target_language]):\n",
        "      raise TypeError(\"All parameters must be strings\")\n",
        "\n",
        "    if any(len(param) > 25 for param in [source_language, target_language]):\n",
        "      raise ValueError(\"Parameters source_language and target_language cannot exceed 25 characters\")\n",
        "\n",
        "    if (len(message) > 160):\n",
        "      raise ValueError(\"Message cannot exceed 160 characters\")\n",
        "\n",
        "\n",
        "    # Make API Call\n",
        "    response = openai.ChatCompletion.create(\n",
        "        model = \"whisper-1\",\n",
        "        prompt = f\"Translate this text from {source} to {target}: {text}\",\n",
        "        max_tokens = 1\n",
        "    )\n",
        "    translation = response.choices[0].text.strip()\n",
        "    return translation\n",
        "\n",
        "\n",
        "  # Handle exceptions and errors\n",
        "  except ValueError:\n",
        "    return f\"Value Error: {ValueError.message}\"\n",
        "\n",
        "  except TypeError:\n",
        "    return f\"Type Error: {TypeError.message}\"\n",
        "\n",
        "  except Exception:\n",
        "    return f\"Exception: {Exception.message}\"\n",
        "\n"
      ],
      "metadata": {
        "id": "BKuA8xSguv56"
      },
      "execution_count": null,
      "outputs": []
    },
    {
      "cell_type": "code",
      "source": [
        "# Call the function to Translate text\n",
        "\n",
        "my_message = \"Hello, my name is Jeff. I am not a police officer.\"\n",
        "source_language = \"English\"\n",
        "target_language = \"Spanish\"\n",
        "\n",
        "translation = translate_text(my_message, source_language, target_language)\n",
        "\n",
        "print(\"Here is the translated message: \", translation)\n",
        "\n",
        "\n",
        "# What happens when your input variables are of the incorrect type?\n",
        "# Incorrect length?\n",
        "# Unrecognized source or target?\n",
        "\n"
      ],
      "metadata": {
        "id": "CQ4haeq7P_WH"
      },
      "execution_count": null,
      "outputs": []
    }
  ]
}